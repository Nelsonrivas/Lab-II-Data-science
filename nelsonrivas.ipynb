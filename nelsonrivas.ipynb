{
 "cells": [
  {
   "cell_type": "markdown",
   "metadata": {},
   "source": [
    "# Instalación de paquetes de Python desde Jupyter notebook"
   ]
  },
  {
   "cell_type": "markdown",
   "metadata": {},
   "source": [
    "En el actual mundo de la tecnología existe diversidad (dificilmente cuantificable) de ambientes de _software_ para cualquiera de los tantos lenguajes de pogramación existentes. Estos vienen con un _core_ de funcionalidades (librerías, paquetes, entre otras) para facilitar el proceso de desarrollo de código. Pero bien es sabido que, estas no siempre son las necesarias para la ejecución total de un desarrollo. Es por ello que se recurre a la instalación de librerías y paquetes y hacer utilizacón de las mismas. Pero algunas veces no suele ser tan sencillo darle ese plus al ambiente en el que se está trabajando.\n",
    "\n",
    "Esto actualmente ocurre con _Jupyter Notebook_. Es muy recurrente encontrar en _StackOverflow_ cosas como: __\"I installed package X and now I can't import it in the notebook. Help!\"_ o _\"how can I install a Python package so it works with my jupyter notebook, using pip and/or conda?\"_\n",
    "\n",
    "Fundamentalmente, la raíz del problema es debido a que el kernel de Jupyter está desconectado o se encuentra aislado de la _shell_ \\; en otras palabras, el instalador apunta a una distinta versión de Python de la que está siendo utilizada por el _notebook_.\n",
    "\n",
    "Ahora, se hará un inciso para incluir lo siguiente:\n",
    "* _pip_\n",
    "* _conda_\n",
    "\n",
    "Ambos son manejadores de paquetes (no se entrará en detalle) pero cabe hacer la diferenciación:\n",
    "* _pip_ instala paquetes de python en cualquier entorno.\n",
    "* _conda_ instala cualquier paquete en entornos _conda_.\n",
    "\n",
    "###### ¿Cuándo utilizar una u otra?\n",
    "Si ya tienes una instalación de Python que estás utilizando, la elección será sencilla:\n",
    "* Si la instalación de Python fue hecha utilizando Anaconda o Miniconda, entonces se usa _conda_ para instalar los paquetes de Python. Si _conda_ arroja que el \"paquete no existe\", se intenta con conda-forge.\n",
    "\n",
    "* Si la instalación de Python fue de otra cualquier forma (desde fuente, pyenv, virtualenv, etc.), entonces se utiliza _pip_.\n",
    "\n",
    "Cabe acotar que no es recomendable utilizar `sudo pip install`. __¡NUNCA!__"
   ]
  },
  {
   "cell_type": "markdown",
   "metadata": {},
   "source": [
    "## Cómo usar conda desde Jupyter Notebook\n",
    "Estando en el _notebook_ se puede necesitar la instalación de un paquete de Python con _conda_. El siguiente código muestra la notación para correr _conda_ directamente como comando de shell dentro del notebook:"
   ]
  },
  {
   "cell_type": "code",
   "execution_count": null,
   "metadata": {},
   "outputs": [],
   "source": [
    "# DON'T DO THIS!\n",
    "!conda install --yes numpy"
   ]
  },
  {
   "cell_type": "markdown",
   "metadata": {},
   "source": [
    "Por varias razones descritas más adelante, esta forma de instalación no trabajará en la mayoría de los casos. Solo en los más simples.\n",
    "\n",
    "\n",
    "En el siguiente se observará una forma en la que trabajará en general:"
   ]
  },
  {
   "cell_type": "code",
   "execution_count": null,
   "metadata": {},
   "outputs": [],
   "source": [
    "# Install a conda package in the current Jupyter kernel\n",
    "import sys\n",
    "!conda install --yes --prefix {sys.prefix} numpy"
   ]
  },
  {
   "cell_type": "markdown",
   "metadata": {},
   "source": [
    "¿Un poco más 'triquiñuela', no?\n",
    "Pero ciertamente de esta forma instalará el paquete requerido en el actual _kernel_ de Jupyter que se encuentra en ejecución."
   ]
  },
  {
   "cell_type": "markdown",
   "metadata": {},
   "source": [
    "## Cómo usar pip desde Jupyter Notebook\n",
    "Similarmente que en el caso con _conda_ , se puede estar tentado a utilizar:"
   ]
  },
  {
   "cell_type": "code",
   "execution_count": null,
   "metadata": {},
   "outputs": [],
   "source": [
    "# DON'T DO THIS\n",
    "!pip install numpy"
   ]
  },
  {
   "cell_type": "markdown",
   "metadata": {},
   "source": [
    "Pero nuevamente, esto no trabajará en la mayoría de los casos. Solo en los más simples.\n",
    "\n",
    "\n",
    "Ahora, su similar a hacerlo con _conda_ y que funcione en general:"
   ]
  },
  {
   "cell_type": "code",
   "execution_count": null,
   "metadata": {},
   "outputs": [],
   "source": [
    "# Install a pip package in the current Jupyter kernel\n",
    "import sys\n",
    "!{sys.executable} -m pip install numpy"
   ]
  },
  {
   "cell_type": "markdown",
   "metadata": {},
   "source": [
    "Y una vez más, con este paso se asegura que estás corriendo la versión de _pip_ asociada al _kernel_ de Python y los paquetes que han sido instalados funcionarán en _notebook_ actual."
   ]
  },
  {
   "cell_type": "markdown",
   "metadata": {},
   "source": [
    "# ¿Por qué la instalación de paquetes desde Jupyter es más tediosa?\n",
    "Va a depender del sistema operativo, las instalaciones de Python y de Jupyter al ejecutarse. Pero en corto: esto es porque en Jupyter, el _shell environment_ se encuentra aislado del ejecutable de Python.\n",
    "\n",
    "Comprendiendo unos pocos diferentes conceptos básicos para entrar más en detalle sobre lo complicado de hacer la instalación de paquetes desde Jupyter, debemos tener en cuenta lo siguiente:\n",
    "\n",
    "1. Cómo el sistema operativo localiza los programas ejecutables.\n",
    "2. Cómo Python instala y localiza paquetes.\n",
    "3. Cómo Jupyter decide cuál Python ejecutable usar.\n",
    "\n",
    "\n",
    "## Cómo el sistema operativo localiza los programas ejecutables\n",
    "Cuando se utiliza la línea de comando y se tipea un comando como _python,_ _jupyter,_ _pip,_ _conda,_ etc., el sistema operativo contiene un \"mecanismo\" bien definido para encontrar el archivo ejecutable al cual refiere el nombre que se tipeó.\n",
    "\n",
    "En sistemas Linux y MAC, el sistema primero chequea si hay coincidencias con un alias; si este falla al no encontrar, se referencia al entorno de variable $PATH."
   ]
  },
  {
   "cell_type": "code",
   "execution_count": 6,
   "metadata": {},
   "outputs": [
    {
     "name": "stdout",
     "output_type": "stream",
     "text": [
      "/home/nelson/anaconda3/bin:/home/nelson/anaconda3/condabin:/home/nelson/.local/bin:/usr/local/sbin:/usr/local/bin:/usr/sbin:/usr/bin:/sbin:/bin:/usr/games:/usr/local/games:/home/nelson/.dotnet/tools:/usr/lib/jvm/java-11-openjdk-amd64/bin\r\n"
     ]
    }
   ],
   "source": [
    "!echo $PATH"
   ]
  },
  {
   "cell_type": "markdown",
   "metadata": {},
   "source": [
    "`$PATH` lista los directorios en orden, donde se buscará cualquier ejecutable. Por ejemplo, si te tipea `python`, con el `$PATH` de arriba se buscará `/home/nelson/anaconda3/bin/python`, y si no existe buscará `/home/nelson/anaconda3/condabin/python`, y así...\n",
    "\n",
    "\n",
    "Si se quiere saber cual es el ejecutado al tipearse python, se puede utilizar el comando de consola:"
   ]
  },
  {
   "cell_type": "code",
   "execution_count": 9,
   "metadata": {},
   "outputs": [
    {
     "name": "stdout",
     "output_type": "stream",
     "text": [
      "python is /home/nelson/anaconda3/bin/python\r\n"
     ]
    }
   ],
   "source": [
    "!type python"
   ]
  },
  {
   "cell_type": "markdown",
   "metadata": {},
   "source": [
    "## Cómo Python localiza los paquetes\n",
    "Python utiliza un mecanismo similar para localizar los paquetes importados. La lista de paths buscados cuando se hace una importación, es encontrado:"
   ]
  },
  {
   "cell_type": "code",
   "execution_count": 11,
   "metadata": {},
   "outputs": [
    {
     "data": {
      "text/plain": [
       "['/media/nelson/98B6A205B6A1E3CA/Users/Nelson/Documents/a_Semestre_II-2019/a_CIENCIA DE DATOS/Lab-II-Data-science',\n",
       " '/home/nelson/anaconda3/lib/python37.zip',\n",
       " '/home/nelson/anaconda3/lib/python3.7',\n",
       " '/home/nelson/anaconda3/lib/python3.7/lib-dynload',\n",
       " '',\n",
       " '/home/nelson/anaconda3/lib/python3.7/site-packages',\n",
       " '/home/nelson/anaconda3/lib/python3.7/site-packages/IPython/extensions',\n",
       " '/home/nelson/.ipython']"
      ]
     },
     "execution_count": 11,
     "metadata": {},
     "output_type": "execute_result"
    }
   ],
   "source": [
    "import sys\n",
    "sys.path"
   ]
  },
  {
   "cell_type": "markdown",
   "metadata": {},
   "source": [
    "Por default, el primer lugar donde Python busca un módulo es en un path vacío, lo que significa el directorio actual. Y así va hasta encontrar el módulo buscado. Se puede encontrar cuál path ha sido utilizado con el atributo `path` de un módulo importado:"
   ]
  },
  {
   "cell_type": "code",
   "execution_count": 12,
   "metadata": {},
   "outputs": [
    {
     "data": {
      "text/plain": [
       "['/home/nelson/anaconda3/lib/python3.7/site-packages/numpy']"
      ]
     },
     "execution_count": 12,
     "metadata": {},
     "output_type": "execute_result"
    }
   ],
   "source": [
    "import numpy\n",
    "numpy.__path__"
   ]
  },
  {
   "cell_type": "markdown",
   "metadata": {},
   "source": [
    "En la mayoría de los casos, un paquete de Python que se instala con _pip_ o _conda_ se colocan en un directorio llamado `site-packages`. Hay que acotar que cada ejecutable de Python tiene su propio `site-packages`: lo que quiere decir que cuando se instala un _package,_ este se encuentra asociado con un particular ejecutable de Python y por lo tanto, será utilizado con esa instalación de Python."
   ]
  },
  {
   "cell_type": "markdown",
   "metadata": {},
   "source": [
    "Cuando se ejecuta `pip install` o `conda install` estos están asociados a una particular versión de Python:\n",
    "* _pip_ instala paquetes en Python en su mismo _path_.\n",
    "* _conda_ instala paquetes en el actual entorno de conda activo."
   ]
  },
  {
   "cell_type": "markdown",
   "metadata": {},
   "source": [
    "# Cómo Jupyter ejecuta código\n",
    "Para hablar de cómo Jupyter selecciona el código de Python a ejecutar, se debe tener en cuenta el concepto de un _Jupyter kernel_.\n",
    "Este es un conjunto de archivos que apuntan a Jupyter para ejecución de código dentro del _notebook._ Para Python kernels, este apuntará a una particular versión de Python.\n",
    "Se puede cambiar el _kernel_ con: `Kernel → Choose Kernel menu item`.\n",
    "\n",
    "Para visualizar los _kernels_ disponibles en el sitema:"
   ]
  },
  {
   "cell_type": "code",
   "execution_count": 13,
   "metadata": {},
   "outputs": [
    {
     "name": "stdout",
     "output_type": "stream",
     "text": [
      "Available kernels:\r\n",
      "  python3    /home/nelson/anaconda3/share/jupyter/kernels/python3\r\n"
     ]
    }
   ],
   "source": [
    "!jupyter kernelspec list"
   ]
  },
  {
   "cell_type": "markdown",
   "metadata": {},
   "source": [
    "# La causa del problema\n",
    "¿Por qué `!pip install` o `!conda install` no siempre trabajan desde el _notebook?_\n",
    "\n",
    "La respuesta es la siguiente: el _shell environment_ es determinado cuando el _Jupyter notebook_ es iniciado, mientras el _python executable_ es determinado por el _kernel,_ y los dos no necesariamente coinciden. En otras palabras, no hay garantías que `python`, `pip` y `conda` en tu `$PATH` serán compatibles con el ejecutable de Python usado por el _notebook_."
   ]
  },
  {
   "cell_type": "markdown",
   "metadata": {},
   "source": [
    "##### Teniendo en cuenta todo lo comentado anteriormente, se procederá con la instalación de las librerías solicitadas, acotando que serán instaladas con conda fuera de Jupyter, para luego hacer utilización de ellas.\n",
    "\n",
    "Librerías a instalar:\n",
    "1. Pandas\n",
    "2. Seaborn\n",
    "\n",
    "Se procede primero con la librería número uno."
   ]
  },
  {
   "cell_type": "code",
   "execution_count": null,
   "metadata": {},
   "outputs": [],
   "source": [
    "# Instalación\n",
    "conda install pandas\n",
    "\n",
    "#Importación\n",
    "import pandas as pd"
   ]
  },
  {
   "cell_type": "markdown",
   "metadata": {},
   "source": [
    "__Funciones de la librería pandas:__\n",
    "* Panda is an open source library built on top of NumPy\n",
    "* It allows for fast analysis and data cleaning and preparation\n",
    "* It excels in performance and productivity\n",
    "* It also has built-in visualization features\n",
    "* It can work with data from a wide variety of sources"
   ]
  },
  {
   "cell_type": "markdown",
   "metadata": {},
   "source": [
    "Ahora, se instalará la librería 2."
   ]
  },
  {
   "cell_type": "code",
   "execution_count": null,
   "metadata": {},
   "outputs": [],
   "source": [
    "# Instalación\n",
    "conda install seaborn\n",
    "\n",
    "# Importación\n",
    "import seaborn as sb"
   ]
  },
  {
   "cell_type": "markdown",
   "metadata": {},
   "source": [
    "__Funciones de la librería seaborn:__\n",
    "* Seaborn is a statical plotting library\n",
    "* It has beautiful default style\n",
    "* It also is designed to work very well with pandas dataframe objects\n",
    "\n",
    "\n",
    "PD: las funciones van de acuerdo a lo leído en su documentación oficial"
   ]
  }
 ],
 "metadata": {
  "kernelspec": {
   "display_name": "Python 3",
   "language": "python",
   "name": "python3"
  },
  "language_info": {
   "codemirror_mode": {
    "name": "ipython",
    "version": 3
   },
   "file_extension": ".py",
   "mimetype": "text/x-python",
   "name": "python",
   "nbconvert_exporter": "python",
   "pygments_lexer": "ipython3",
   "version": "3.7.4"
  }
 },
 "nbformat": 4,
 "nbformat_minor": 2
}
